{
 "cells": [
  {
   "cell_type": "markdown",
   "id": "50deb28e",
   "metadata": {},
   "source": [
    "# 其他内容\n",
    "\n",
    "## 辅助框\n",
    "\n",
    "是的法师打发斯蒂芬胜多负少的范德萨发的发的发放大法撒旦法是的法师打发斯蒂芬胜多负少的范德萨发的发的发放大法撒旦法是的法师打发斯蒂芬胜多负少的范德萨发的发的发放大法撒旦法是的法师打发斯蒂芬胜多负少的范德萨发的发的发放大法撒旦法是的法师打发斯蒂芬胜多负少的范德萨发的发的发放大法撒旦法是\n",
    "\n",
    "```{note}\n",
    "Here is my sidebar content, it is pretty cool!\n",
    "```\n",
    "\n",
    "```{hint}\n",
    "Here is my sidebar content, it is pretty cool!\n",
    "```\n",
    "\n",
    "```{error}\n",
    "Here is my sidebar content, it is pretty cool!\n",
    "```\n",
    "\n",
    "```{seealso}\n",
    "This is the default theme in [Jupyter Book].\n",
    "```\n",
    "\n",
    "```{admonition} hahaha\n",
    "这是一个自定义框\n",
    "```\n",
    "\n",
    "是的法师打发斯蒂芬胜多负少的范德萨发的发的发放大法撒旦法是的法师打发斯蒂芬胜多负少的范德萨发的发的发放大法撒旦法是的法师打发斯蒂芬胜多负少的范德萨发的发的发放大法撒旦法是的法师打发斯蒂芬胜多负少的范德萨发的发的发放大法撒旦法是的法师打发斯蒂芬胜多负少的范德萨发的发\n",
    "\n",
    "```{margin}\n",
    "这里是一段边缘文字，[哔哩哔哩](https://www.bilibili.com)\n",
    "```\n",
    "\n",
    "## 嵌套\n",
    "\n",
    "````{admonition} hahaha\n",
    "```python\n",
    "import numpy as np\n",
    "```\n",
    "````\n",
    "\n",
    "是的法师打发斯蒂芬胜多负少的范德萨发的发的发放大法撒旦法是的法师打发斯蒂芬胜多负少的范德萨发的发的发放大法撒旦法是的法师打发斯蒂芬胜多负少的范德萨发的发的发放大法撒旦法是的法师打发斯蒂芬胜多负少的范德萨发的发的发放大法撒旦法是的法师打发斯蒂芬胜多负少的范德萨发的发\n",
    "\n",
    "````{margin}\n",
    "```python\n",
    "import numpy as np\n",
    "```\n",
    "````\n",
    "\n",
    "## 公式\n",
    "\n",
    "这里是一个公式：$x^2$，哈哈哈哈\n",
    "\n",
    "$$\\displaystyle \\iint x^2+y^2 dxdy$$\n",
    "\n",
    "## 图片\n",
    "\n",
    "```{figure} _static/logo.png\n",
    "---\n",
    "width: 60%\n",
    "align: right\n",
    "---\n",
    "```\n",
    "\n",
    "```{figure} _static/logo.png\n",
    "---\n",
    "width: 150%\n",
    "align: center\n",
    "---\n",
    "```\n",
    "\n",
    "````{margin}\n",
    "这里是图片：\n",
    "```{figure} _static/logo.png\n",
    "---\n",
    "width: 100%\n",
    "align: right\n",
    "---\n",
    "```\n",
    "````"
   ]
  }
 ],
 "metadata": {
  "jupytext": {
   "text_representation": {
    "format_name": "myst"
   }
  },
  "kernelspec": {
   "display_name": "Python 3",
   "name": "python3"
  },
  "language_info": {
   "codemirror_mode": {
    "name": "ipython",
    "version": 3
   },
   "file_extension": ".py",
   "mimetype": "text/x-python",
   "name": "python",
   "nbconvert_exporter": "python",
   "pygments_lexer": "ipython3",
   "version": "3.8.10"
  },
  "source_map": [
   8
  ]
 },
 "nbformat": 4,
 "nbformat_minor": 5
}